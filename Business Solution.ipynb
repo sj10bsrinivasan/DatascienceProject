{
    "cells": [
        {
            "cell_type": "markdown",
            "metadata": {
                "collapsed": true
            },
            "source": "# Description of the Data - Capstone Project - The Battle of Neighborhood"
        },
        {
            "cell_type": "markdown",
            "metadata": {},
            "source": "### User is Planning to open a restaurant  "
        },
        {
            "cell_type": "markdown",
            "metadata": {},
            "source": "New York City's demographics show that it is a large and ethnically diverse metropolis. It is the largest city in the United States with a long history of international immigration. New York City was home to nearly 8.5 million people in 2014, accounting for over 40% of the population of New York State and a slightly lower percentage of the New York metropolitan area, home to approximately 23.6 million. Over the last decade the city has been growing faster than the region. The New York region continues to be by far the leading metropolitan gateway for legal immigrants admitted into the United States.\n\nThroughout its history, New York City has been a major point of entry for immigrants; the term \"melting pot\" was coined to describe densely populated immigrant neighborhoods on the Lower East Side. As many as 800 languages are spoken in New York, making it the most linguistically diverse city in the world. English remains the most widely spoken language, although there are areas in the outer boroughs in which up to 25% of people speak English as an alternate language, and/or have limited or no English language fluency. English is least spoken in neighborhoods such as Flushing, Sunset Park, and Corona.\n\nWith it's diverse culture , comes diverse food items. There are many resturants in New york City, each beloning to different categories like Chinese , Indian , French etc.\n\nSo as part of this project , we will list and visualize all major parts of New York City that has great indian resturants."
        },
        {
            "cell_type": "markdown",
            "metadata": {},
            "source": "___"
        },
        {
            "cell_type": "markdown",
            "metadata": {},
            "source": "### Data"
        },
        {
            "cell_type": "markdown",
            "metadata": {},
            "source": "For this project we need the following data :\n\n* New York City data that contains list Boroughs,Neighborhoods along with their latitude and longitude.\n     * Data source : https://cocl.us/new_york_dataset\n     * Description : This data set contains the required information. And we will use this data set to explore various neighborhoods of new york city.\n     \n* Indian resturants in each neighborhood of new york city.\n    * Data source : Fousquare API\n    * Description : By using this api we will get all the venues in each neighborhood. We can filter these venues to get only indian resturants.\n* GeoSpace data:\n    * Data source : https://data.cityofnewyork.us/City-Government/Borough-Boundaries/tqmj-j8zm\n    * Description : By using this geo space data we will get the New york Borough boundaries that will help us visualize choropleth map."
        },
        {
            "cell_type": "markdown",
            "metadata": {},
            "source": "___"
        },
        {
            "cell_type": "markdown",
            "metadata": {},
            "source": "### Approach"
        },
        {
            "cell_type": "markdown",
            "metadata": {},
            "source": "1. Collect the new york city data from https://cocl.us/new_york_dataset\n2. Using FourSquare API we will find all venues for each neighborhood.\n3. Filter out all venues that are Indian Resturants.\n4. Find rating , tips and like count for each Indian Resturants using FourSquare API.\n5. Using rating for each resturant , we will sort that data.\n6. Visualize the Ranking of neighborhoods using folium library(python)"
        },
        {
            "cell_type": "markdown",
            "metadata": {},
            "source": "### Questions that can be asked using the above mentioned datasets"
        },
        {
            "cell_type": "markdown",
            "metadata": {},
            "source": "1. What is best location in New York City for Indian Cuisine ?\n2. Which areas have potential Indian Resturant Market ?\n3. Which all areas lack Indian Resturants ?\n4. Which is the best place to stay if I prefer Indian Cuisine ?"
        },
        {
            "cell_type": "markdown",
            "metadata": {},
            "source": "### Analysis"
        },
        {
            "cell_type": "markdown",
            "metadata": {},
            "source": "* pandas and numpy for handling data.\n* request module for using FourSquare API.\n* geopy to get co-ordinates of City of New York.\n* folium to visualize the results on a map"
        },
        {
            "cell_type": "code",
            "execution_count": null,
            "metadata": {},
            "outputs": [],
            "source": ""
        }
    ],
    "metadata": {
        "kernelspec": {
            "display_name": "Python 3.6",
            "language": "python",
            "name": "python3"
        },
        "language_info": {
            "codemirror_mode": {
                "name": "ipython",
                "version": 3
            },
            "file_extension": ".py",
            "mimetype": "text/x-python",
            "name": "python",
            "nbconvert_exporter": "python",
            "pygments_lexer": "ipython3",
            "version": "3.6.8"
        }
    },
    "nbformat": 4,
    "nbformat_minor": 1
}